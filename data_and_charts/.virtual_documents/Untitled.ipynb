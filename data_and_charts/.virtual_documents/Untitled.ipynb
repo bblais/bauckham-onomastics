%matplotlib inline
from defs import *








c={'gospels_acts_unattested':pd.read_csv('counts_gospels_acts_unattested.csv'),
      'josephus':pd.read_csv('counts_josephus.csv'),
     }


display(c['gospels_acts_unattested'])
display(c['gospels_acts_unattested'][['gospels_acts_unattested','rest']].sum())





def simulate_texts(source_counts,rest_counts,Nsims=50000,
              distribution='dirichlet'):
    
    from scipy.stats import dirichlet,multinomial,uniform
    from numpy import percentile
    
    rest=np.array(rest_counts)
    source=np.array(source_counts)
    
    rv_all=dirichlet(1+rest)
    f=array(rest).ravel()
    f=f/f.sum()
    
    N=source.sum()
    K=len(source)

    n_all=[]
    for i in tqdm(range(Nsims)):
        if distribution=='dirichlet':
            p=rv_all.rvs().ravel()
        elif distribution=='frequency':
            p=f
        elif distribution=='uniform':
            p=np.ones(K)/K
        else:
            raise ValueError(f"Distribution '{distribution}'' not implemented")

        nn=multinomial(n=N,p=p).rvs().ravel()
        n_all.append(nn)
    n_all=array(n_all)    
    
    
    pl,pm,pu=np.percentile(n_all,[2.5,50,97.5],axis=0)
        
    return pl,pm,pu,n_all



source=c['gospels_acts_unattested']['gospels_acts_unattested']
rest=array(c['gospels_acts_unattested']['rest'])
names=c['gospels_acts_unattested']['name']

n=array(rest)

figure(figsize=(16,8))


α=1+n
N=n.sum()
K=len(n)

K=10
α0=α.sum()
β=α0-α

for idx in range(K):
    p1=D.beta(α[idx],β[idx])
    x=linspace(0,0.1,300)
    #x=np.linspace(p1.ppf(.0001),p1.ppf(.9999),300)
    plot(x*100,p1.pdf(x),'-',color=colors[idx],label=names[idx])
    fill_between(x*100,p1.pdf(x),alpha=0.1,color=colors[idx])
    
    mode=n[idx]/(K-2+N)
    mode=(α[idx]-1)/(α[idx]+β[idx]-2)    
    
fmt = '%.0f%%' # Format you want the ticks, e.g. '40%'
mxticks = mtick.FormatStrFormatter(fmt)
gca().xaxis.set_major_formatter(mxticks)

ylabel(r"$P(\theta_i|\{n_i\},N)$")
    
legend();



